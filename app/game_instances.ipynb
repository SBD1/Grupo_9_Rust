{
 "cells": [
  {
   "cell_type": "code",
   "execution_count": 1,
   "id": "7b41c52e",
   "metadata": {},
   "outputs": [],
   "source": [
    "import sqlalchemy as db\n",
    "import pandas as pd\n",
    "import os\n",
    "import random"
   ]
  },
  {
   "cell_type": "code",
   "execution_count": 15,
   "id": "ccab6341",
   "metadata": {},
   "outputs": [
    {
     "name": "stdout",
     "output_type": "stream",
     "text": [
      "0\n",
      "1\n",
      "2\n",
      "3\n",
      "4\n",
      "5\n",
      "6\n",
      "7\n",
      "8\n",
      "9\n"
     ]
    }
   ],
   "source": [
    "for i in range(10):\n",
    "    print(i)"
   ]
  },
  {
   "cell_type": "code",
   "execution_count": 6,
   "id": "29ead6e6",
   "metadata": {},
   "outputs": [],
   "source": [
    "class game_assets():\n",
    "    def load_game_db(self):\n",
    "        DBUSER= os.getenv('DBUSER','postgres')\n",
    "        DBPASSWORD = os.getenv('DBPASSWORD','shadow954')\n",
    "        DBHOST = os.getenv('DBHOST','localhost')\n",
    "        DBPORT = os.getenv('DBPORT','5432')\n",
    "        DBNAME = os.getenv('DBNAME','rust-2')\n",
    "\n",
    "        engine = db.create_engine(\n",
    "            f\"postgresql+psycopg2://{DBUSER}:{DBPASSWORD}@{DBHOST}:{DBPORT}/{DBNAME}\", client_encoding='utf8')\n",
    "        return engine\n",
    "    \n",
    "    def start_game(self):\n",
    "        print('Seja bem-vindo!')\n",
    "        \n",
    "        conta_ex = 0 \n",
    "        while(conta_ex!='S' or conta_ex!='N'):\n",
    "            print('Já possui uma conta? S ou N')\n",
    "            conta_ex = input()\n",
    "            if(conta_ex == 'S'):\n",
    "                print('ótimo, qual o id da sua conta?')\n",
    "                maincharacterlist = pd.read_sql('select * from maincharacter',engine)\n",
    "                print(maincharacterlist)\n",
    "                idConta = input()\n",
    "                return idConta\n",
    "            elif(conta_ex == 'N'):\n",
    "                print('deseja criar uma? S ou N')\n",
    "                createAcc = input()\n",
    "                if(createAcc == 'S'):\n",
    "                    print('qual será o nome da conta?')\n",
    "                    owner = input()\n",
    "                    print('Ótimo! Sua conta foi criada com o nome {}'.format(owner))\n",
    "                    insertion = \"INSERT INTO maincharacter(owner) VALUES('{}')\".format(owner)\n",
    "                    with engine.begin() as conn:     # TRANSACTION\n",
    "                        conn.execute(insertion)\n",
    "                    return pd.read_sql('select id from maincharacter order by id desc limit 1',engine).id\n",
    "                elif(createAcc== 'N'):\n",
    "                    print('Conta não criada')     \n",
    "\n",
    "        return owner\n",
    "    \n",
    "    def instance_loot_box(self,loot_grade):\n",
    "        query = \"select * from lootcrates where grade = '{}'\".format(loot_grade)\n",
    "        qoi = pd.read_sql(query,engine).item_quantity\n",
    "        \n",
    "        iqoi = random.randint(2,int(qoi))\n",
    "        \n",
    "        query = \"\"\"SELECT id FROM items WHERE lootgrade = '{}' ORDER BY random() LIMIT {};  \"\"\".format(loot_grade,iqoi)\n",
    "        \n",
    "        lootbox_items = pd.read_sql(query, engine)\n",
    "        \n",
    "        columns = pd.read_sql('select * from loot_crate_instance',engine).columns\n",
    "        \n",
    "        if iqoi == 2:\n",
    "            insertion = \"INSERT INTO loot_crate_instance(loot_grade,item1_id,item2_id) VALUES ('{}',{},{})\".format(loot_grade, lootbox_items.id[0],lootbox_items.id[1])\n",
    "        elif iqoi == 3:\n",
    "            insertion = \"INSERT INTO loot_crate_instance(loot_grade,item1_id,item2_id,item3_id) VALUES ('{}',{},{},{})\".format(loot_grade, lootbox_items.id[0],lootbox_items.id[1],lootbox_items.id[2])\n",
    "        elif iqoi == 4:\n",
    "            insertion = \"INSERT INTO loot_crate_instance(loot_grade,item1_id,item2_id,item3_id,item4_id) VALUES ('{}',{},{},{},{})\".format(loot_grade, lootbox_items.id[0],lootbox_items.id[1],lootbox_items.id[2],lootbox_items.id[3])\n",
    "        elif iqoi == 5:\n",
    "            insertion = \"INSERT INTO loot_crate_instance(loot_grade,item1_id,item2_id,item3_id,item4_id,item5_id) VALUES ('{}',{},{},{},{},{})\".format(loot_grade, lootbox_items.id[0],lootbox_items.id[1],lootbox_items.id[2],lootbox_items.id[3],lootbox_items.id[4])\n",
    "        elif iqoi == 6:\n",
    "            insertion = \"INSERT INTO loot_crate_instance(loot_grade,item1_id,item2_id,item3_id,item4_id,item5_id,item6_id) VALUES ('{}',{},{},{},{},{},{})\".format(loot_grade, lootbox_items.id[0],lootbox_items.id[1],lootbox_items.id[2],lootbox_items.id[3],lootbox_items.id[4],lootbox_items.id[5])\n",
    "        elif iqoi == 7:\n",
    "            insertion = \"INSERT INTO loot_crate_instance(loot_grade,item1_id,item2_id,item3_id,item4_id,item5_id,item6_id,item7_id) VALUES ('{}',{},{},{},{},{},{},{})\".format(loot_grade, lootbox_items.id[0],lootbox_items.id[1],lootbox_items.id[2],lootbox_items.id[3],lootbox_items.id[4],lootbox_items.id[5],lootbox_items.id[6])        \n",
    "                             \n",
    "        with engine.begin() as conn:     # TRANSACTION\n",
    "            conn.execute(insertion)\n",
    "            \n",
    "        return int(pd.read_sql(\"select id from loot_crate_instance order by id desc limit 1;\",engine).id)\n",
    "    \n",
    "#       def instanciate_backpack(self, ownerID):\n",
    "#         query = \"INSERT INTO backpack(ownerID, slot01,slot02) VALUES({},) \".format(ownerID)    \n",
    "#         with engine.begin() as conn:     # TRANSACTION\n",
    "#             conn.execute(drop_query)\n",
    "\n",
    "    def quit_game(self):\n",
    "        drop_query = 'DELETE FROM loot_crate_instance;'\n",
    "        with engine.begin() as conn:     # TRANSACTION\n",
    "            conn.execute(drop_query)"
   ]
  },
  {
   "cell_type": "code",
   "execution_count": 7,
   "id": "8ab83893",
   "metadata": {
    "scrolled": true
   },
   "outputs": [
    {
     "ename": "NameError",
     "evalue": "name 'engine' is not defined",
     "output_type": "error",
     "traceback": [
      "\u001b[1;31m---------------------------------------------------------------------------\u001b[0m",
      "\u001b[1;31mNameError\u001b[0m                                 Traceback (most recent call last)",
      "\u001b[1;32m<ipython-input-7-86419402b7f6>\u001b[0m in \u001b[0;36m<module>\u001b[1;34m\u001b[0m\n\u001b[1;32m----> 1\u001b[1;33m \u001b[0mpd\u001b[0m\u001b[1;33m.\u001b[0m\u001b[0mread_sql\u001b[0m\u001b[1;33m(\u001b[0m\u001b[1;34m'select * from ITEMS'\u001b[0m\u001b[1;33m,\u001b[0m\u001b[0mengine\u001b[0m\u001b[1;33m)\u001b[0m\u001b[1;33m\u001b[0m\u001b[1;33m\u001b[0m\u001b[0m\n\u001b[0m",
      "\u001b[1;31mNameError\u001b[0m: name 'engine' is not defined"
     ]
    }
   ],
   "source": [
    "pd.read_sql('select * from ITEMS',engine)"
   ]
  },
  {
   "cell_type": "code",
   "execution_count": 8,
   "id": "ccb07303",
   "metadata": {},
   "outputs": [
    {
     "ename": "NameError",
     "evalue": "name 'engine' is not defined",
     "output_type": "error",
     "traceback": [
      "\u001b[1;31m---------------------------------------------------------------------------\u001b[0m",
      "\u001b[1;31mNameError\u001b[0m                                 Traceback (most recent call last)",
      "\u001b[1;32m<ipython-input-8-2e37c3eb02c5>\u001b[0m in \u001b[0;36m<module>\u001b[1;34m\u001b[0m\n\u001b[1;32m----> 1\u001b[1;33m \u001b[1;32mwith\u001b[0m \u001b[0mengine\u001b[0m\u001b[1;33m.\u001b[0m\u001b[0mbegin\u001b[0m\u001b[1;33m(\u001b[0m\u001b[1;33m)\u001b[0m \u001b[1;32mas\u001b[0m \u001b[0mconn\u001b[0m\u001b[1;33m:\u001b[0m     \u001b[1;31m# TRANSACTION\u001b[0m\u001b[1;33m\u001b[0m\u001b[1;33m\u001b[0m\u001b[0m\n\u001b[0m\u001b[0;32m      2\u001b[0m     \u001b[0mconn\u001b[0m\u001b[1;33m.\u001b[0m\u001b[0mexecute\u001b[0m\u001b[1;33m(\u001b[0m\u001b[1;34m'DELETE FROM maincharacter loot_crate_instance'\u001b[0m\u001b[1;33m)\u001b[0m\u001b[1;33m\u001b[0m\u001b[1;33m\u001b[0m\u001b[0m\n",
      "\u001b[1;31mNameError\u001b[0m: name 'engine' is not defined"
     ]
    }
   ],
   "source": [
    "with engine.begin() as conn:     # TRANSACTION\n",
    "    conn.execute('DELETE FROM maincharacter loot_crate_instance')"
   ]
  },
  {
   "cell_type": "code",
   "execution_count": 9,
   "id": "d6b7fd7a",
   "metadata": {},
   "outputs": [],
   "source": [
    "gi = game_assets()\n",
    "engine = gi.load_game_db()"
   ]
  },
  {
   "cell_type": "code",
   "execution_count": 13,
   "id": "473530f1",
   "metadata": {},
   "outputs": [],
   "source": [
    "m1 = pd.read_sql(\"\"\"SELECT * FROM monuments WHERE lootgrade = '{}' ORDER BY random() LIMIT 1;  \"\"\".format('basic'),engine)"
   ]
  },
  {
   "cell_type": "code",
   "execution_count": 14,
   "id": "af60b7a4",
   "metadata": {},
   "outputs": [
    {
     "data": {
      "text/plain": [
       "'Warehouse'"
      ]
     },
     "execution_count": 14,
     "metadata": {},
     "output_type": "execute_result"
    }
   ],
   "source": [
    "m1.name[0]"
   ]
  },
  {
   "cell_type": "code",
   "execution_count": 11,
   "id": "30745659",
   "metadata": {},
   "outputs": [],
   "source": [
    "instanceid = gi.instance_loot_box('elite')"
   ]
  },
  {
   "cell_type": "code",
   "execution_count": null,
   "id": "6adb04fd",
   "metadata": {},
   "outputs": [],
   "source": [
    "gi.quit_game()"
   ]
  },
  {
   "cell_type": "code",
   "execution_count": null,
   "id": "b689c531",
   "metadata": {
    "scrolled": false
   },
   "outputs": [],
   "source": [
    "pd.read_sql('select * from maincharacter',engine)"
   ]
  },
  {
   "cell_type": "code",
   "execution_count": null,
   "id": "ef114a60",
   "metadata": {},
   "outputs": [],
   "source": [
    "pd.read_sql('select * from lootbox',engine).id[0]"
   ]
  },
  {
   "cell_type": "code",
   "execution_count": null,
   "id": "dc2ac64d",
   "metadata": {
    "scrolled": false
   },
   "outputs": [],
   "source": [
    "pd.read_sql('select * from items where id=58',engine)"
   ]
  },
  {
   "cell_type": "code",
   "execution_count": null,
   "id": "989541a5",
   "metadata": {},
   "outputs": [],
   "source": [
    "pd.read_sql('select * from lootcrates',engine)"
   ]
  },
  {
   "cell_type": "code",
   "execution_count": null,
   "id": "da341ff9",
   "metadata": {},
   "outputs": [],
   "source": []
  }
 ],
 "metadata": {
  "kernelspec": {
   "display_name": "Python 3",
   "language": "python",
   "name": "python3"
  },
  "language_info": {
   "codemirror_mode": {
    "name": "ipython",
    "version": 3
   },
   "file_extension": ".py",
   "mimetype": "text/x-python",
   "name": "python",
   "nbconvert_exporter": "python",
   "pygments_lexer": "ipython3",
   "version": "3.8.8"
  }
 },
 "nbformat": 4,
 "nbformat_minor": 5
}
