{
 "cells": [
  {
   "cell_type": "code",
   "execution_count": 1,
   "id": "ff3978d0",
   "metadata": {},
   "outputs": [],
   "source": [
    "import sqlalchemy as db\n",
    "import pandas as pd\n",
    "import os\n",
    "import random"
   ]
  },
  {
   "cell_type": "code",
   "execution_count": 120,
   "id": "057ec0b9",
   "metadata": {},
   "outputs": [],
   "source": [
    "class game_assets():\n",
    "    def load_game_db(self):\n",
    "        DBUSER= os.getenv('DBUSER','postgres')\n",
    "        DBPASSWORD = os.getenv('DBPASSWORD','shadow954')\n",
    "        DBHOST = os.getenv('DBHOST','localhost')\n",
    "        DBPORT = os.getenv('DBPORT','5432')\n",
    "        DBNAME = os.getenv('DBNAME','rust-items')\n",
    "\n",
    "        engine = db.create_engine(\n",
    "            f\"postgresql+psycopg2://{DBUSER}:{DBPASSWORD}@{DBHOST}:{DBPORT}/{DBNAME}\", client_encoding='utf8')\n",
    "        return engine\n",
    "    \n",
    "    def start_game(self):\n",
    "        print('Seja bem-vindo, qual o seu nome?')\n",
    "        owner = input()\n",
    "        print('Ótimo! Sua conta foi criada com o nome {}'.format(owner))\n",
    "        insertion = \"INSERT INTO maincharacter(owner) VALUES('{}')\".format(owner)\n",
    "        with engine.begin() as conn:     # TRANSACTION\n",
    "            conn.execute(insertion)\n",
    "        return owner\n",
    "    \n",
    "    def instance_loot_box(self,loot_grade):\n",
    "        query = \"select * from lootcrates where grade = '{}'\".format(loot_grade)\n",
    "        qoi = pd.read_sql(query,engine).item_quantity\n",
    "        \n",
    "        iqoi = random.randint(2,int(qoi))\n",
    "        \n",
    "        query = \"\"\"SELECT id FROM items WHERE lootgrade = '{}' ORDER BY random() LIMIT {};  \"\"\".format(loot_grade,iqoi)\n",
    "        \n",
    "        lootbox_items = pd.read_sql(query, engine)\n",
    "        \n",
    "        columns = pd.read_sql('select * from loot_crate_instance',engine).columns\n",
    "        \n",
    "        if iqoi == 2:\n",
    "            insertion = \"INSERT INTO loot_crate_instance(loot_grade,item1_id,item2_id) VALUES ('{}',{},{})\".format(loot_grade, lootbox_items.id[0],lootbox_items.id[1])\n",
    "        elif iqoi == 3:\n",
    "            insertion = \"INSERT INTO loot_crate_instance(loot_grade,item1_id,item2_id,item3_id) VALUES ('{}',{},{},{})\".format(loot_grade, lootbox_items.id[0],lootbox_items.id[1],lootbox_items.id[2])\n",
    "        elif iqoi == 4:\n",
    "            insertion = \"INSERT INTO loot_crate_instance(loot_grade,item1_id,item2_id,item3_id,item4_id) VALUES ('{}',{},{},{},{})\".format(loot_grade, lootbox_items.id[0],lootbox_items.id[1],lootbox_items.id[2],lootbox_items.id[3])\n",
    "        elif iqoi == 5:\n",
    "            insertion = \"INSERT INTO loot_crate_instance(loot_grade,item1_id,item2_id,item3_id,item4_id,item5_id) VALUES ('{}',{},{},{},{},{})\".format(loot_grade, lootbox_items.id[0],lootbox_items.id[1],lootbox_items.id[2],lootbox_items.id[3],lootbox_items.id[4])\n",
    "        elif iqoi == 6:\n",
    "            insertion = \"INSERT INTO loot_crate_instance(loot_grade,item1_id,item2_id,item3_id,item4_id,item5_id,item6_id) VALUES ('{}',{},{},{},{},{},{})\".format(loot_grade, lootbox_items.id[0],lootbox_items.id[1],lootbox_items.id[2],lootbox_items.id[3],lootbox_items.id[4],lootbox_items.id[5])\n",
    "        elif iqoi == 7:\n",
    "            insertion = \"INSERT INTO loot_crate_instance(loot_grade,item1_id,item2_id,item3_id,item4_id,item5_id,item6_id,item7_id) VALUES ('{}',{},{},{},{},{},{},{})\".format(loot_grade, lootbox_items.id[0],lootbox_items.id[1],lootbox_items.id[2],lootbox_items.id[3],lootbox_items.id[4],lootbox_items.id[5],lootbox_items.id[6])        \n",
    "                             \n",
    "        with engine.begin() as conn:     # TRANSACTION\n",
    "            conn.execute(insertion)\n",
    "            \n",
    "        return int(pd.read_sql(\"select id from loot_crate_instance order by id desc limit 1;\",engine).id)\n",
    "    \n",
    "#       def instanciate_backpack(self, ownerID):\n",
    "#         query = \"INSERT INTO backpack(ownerID, slot01,slot02) VALUES({},) \".format(ownerID)    \n",
    "#         with engine.begin() as conn:     # TRANSACTION\n",
    "#             conn.execute(drop_query)\n",
    "\n",
    "    def quit_game(self):\n",
    "        drop_query = 'DELETE FROM loot_crate_instance;'\n",
    "        with engine.begin() as conn:     # TRANSACTION\n",
    "            conn.execute(drop_query)"
   ]
  },
  {
   "cell_type": "code",
   "execution_count": 121,
   "id": "145068d3",
   "metadata": {},
   "outputs": [],
   "source": [
    "gi = game_assets()\n",
    "engine = gi.load_game_db()"
   ]
  },
  {
   "cell_type": "code",
   "execution_count": 122,
   "id": "369136a5",
   "metadata": {},
   "outputs": [],
   "source": [
    "instanceid = gi.instance_loot_box('elite')"
   ]
  },
  {
   "cell_type": "code",
   "execution_count": 124,
   "id": "c51ffeed",
   "metadata": {},
   "outputs": [
    {
     "name": "stdout",
     "output_type": "stream",
     "text": [
      "Seja bem-vindo, qual o seu nome?\n",
      "Thiago\n",
      "Ótimo! Sua conta foi criada com o nome Thiago\n"
     ]
    },
    {
     "data": {
      "text/plain": [
       "'Thiago'"
      ]
     },
     "execution_count": 124,
     "metadata": {},
     "output_type": "execute_result"
    }
   ],
   "source": [
    "gi.start_game()"
   ]
  },
  {
   "cell_type": "code",
   "execution_count": 115,
   "id": "fb83a582",
   "metadata": {},
   "outputs": [],
   "source": [
    "gi.quit_game()"
   ]
  },
  {
   "cell_type": "code",
   "execution_count": 126,
   "id": "87928d17",
   "metadata": {
    "scrolled": false
   },
   "outputs": [
    {
     "data": {
      "text/html": [
       "<div>\n",
       "<style scoped>\n",
       "    .dataframe tbody tr th:only-of-type {\n",
       "        vertical-align: middle;\n",
       "    }\n",
       "\n",
       "    .dataframe tbody tr th {\n",
       "        vertical-align: top;\n",
       "    }\n",
       "\n",
       "    .dataframe thead th {\n",
       "        text-align: right;\n",
       "    }\n",
       "</style>\n",
       "<table border=\"1\" class=\"dataframe\">\n",
       "  <thead>\n",
       "    <tr style=\"text-align: right;\">\n",
       "      <th></th>\n",
       "      <th>charactersid</th>\n",
       "      <th>owner</th>\n",
       "    </tr>\n",
       "  </thead>\n",
       "  <tbody>\n",
       "    <tr>\n",
       "      <th>0</th>\n",
       "      <td>1</td>\n",
       "      <td>Thiago</td>\n",
       "    </tr>\n",
       "  </tbody>\n",
       "</table>\n",
       "</div>"
      ],
      "text/plain": [
       "   charactersid   owner\n",
       "0             1  Thiago"
      ]
     },
     "execution_count": 126,
     "metadata": {},
     "output_type": "execute_result"
    }
   ],
   "source": [
    "pd.read_sql('select * from maincharacter',engine)"
   ]
  },
  {
   "cell_type": "code",
   "execution_count": null,
   "id": "e2eda2d5",
   "metadata": {},
   "outputs": [],
   "source": [
    "pd.read_sql('select * from lootbox',engine).id[0]"
   ]
  },
  {
   "cell_type": "code",
   "execution_count": null,
   "id": "9b2f405b",
   "metadata": {
    "scrolled": false
   },
   "outputs": [],
   "source": [
    "pd.read_sql('select * from items where id=58',engine)"
   ]
  },
  {
   "cell_type": "code",
   "execution_count": null,
   "id": "1ad62236",
   "metadata": {},
   "outputs": [],
   "source": [
    "pd.read_sql('select * from lootcrates',engine)"
   ]
  },
  {
   "cell_type": "code",
   "execution_count": null,
   "id": "f1660eb2",
   "metadata": {},
   "outputs": [],
   "source": []
  }
 ],
 "metadata": {
  "kernelspec": {
   "display_name": "Python 3",
   "language": "python",
   "name": "python3"
  },
  "language_info": {
   "codemirror_mode": {
    "name": "ipython",
    "version": 3
   },
   "file_extension": ".py",
   "mimetype": "text/x-python",
   "name": "python",
   "nbconvert_exporter": "python",
   "pygments_lexer": "ipython3",
   "version": "3.8.8"
  }
 },
 "nbformat": 4,
 "nbformat_minor": 5
}
